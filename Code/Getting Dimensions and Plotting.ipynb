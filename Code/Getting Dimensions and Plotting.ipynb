{
 "cells": [
  {
   "cell_type": "code",
   "execution_count": 4,
   "metadata": {
    "ExecuteTime": {
     "end_time": "2020-11-29T16:03:25.730505Z",
     "start_time": "2020-11-29T16:01:50.359561Z"
    }
   },
   "outputs": [
    {
     "name": "stdout",
     "output_type": "stream",
     "text": [
      "(435876, 5)\n",
      "Index(['comment', 'likeCount', 'Topic', 'stance', 'ID'], dtype='object')\n"
     ]
    }
   ],
   "source": [
    "import pandas as pd \n",
    "df = pd.read_excel('All911Comments.xlsx',index=False)\n",
    "print(df.shape)\n",
    "print(df.columns)\n",
    "print(df.loc[df['stance'] == 1].shape)\n",
    "print(df.loc[df['stance'] == -1].shape)\n",
    "print(df.loc[df['stance'] == 0].shape)"
   ]
  },
  {
   "cell_type": "code",
   "execution_count": 8,
   "metadata": {
    "ExecuteTime": {
     "end_time": "2020-11-29T23:21:26.690830Z",
     "start_time": "2020-11-29T23:21:25.675083Z"
    }
   },
   "outputs": [
    {
     "name": "stdout",
     "output_type": "stream",
     "text": [
      "(204606, 5)\n",
      "(62534, 5)\n",
      "(168736, 5)\n"
     ]
    }
   ],
   "source": [
    "print(df.loc[df['stance'] == 1].shape)\n",
    "print(df.loc[df['stance'] == -1].shape)\n",
    "print(df.loc[df['stance'] == 0].shape)"
   ]
  },
  {
   "cell_type": "code",
   "execution_count": 9,
   "metadata": {
    "ExecuteTime": {
     "end_time": "2020-11-29T23:22:22.843582Z",
     "start_time": "2020-11-29T23:22:22.247061Z"
    }
   },
   "outputs": [
    {
     "data": {
      "text/plain": [
       "(396, 16)"
      ]
     },
     "execution_count": 9,
     "metadata": {},
     "output_type": "execute_result"
    }
   ],
   "source": [
    "df = pd.read_excel('ProDetails.xlsx',index=False)\n",
    "df.shape"
   ]
  },
  {
   "cell_type": "code",
   "execution_count": 10,
   "metadata": {
    "ExecuteTime": {
     "end_time": "2020-11-29T23:24:22.864559Z",
     "start_time": "2020-11-29T23:24:22.315576Z"
    }
   },
   "outputs": [
    {
     "data": {
      "text/plain": [
       "(437, 16)"
      ]
     },
     "execution_count": 10,
     "metadata": {},
     "output_type": "execute_result"
    }
   ],
   "source": [
    "df = pd.read_excel('AntiDetails.xlsx',index=False)\n",
    "df.shape\n"
   ]
  },
  {
   "cell_type": "code",
   "execution_count": 12,
   "metadata": {
    "ExecuteTime": {
     "end_time": "2020-11-29T23:29:29.038217Z",
     "start_time": "2020-11-29T23:29:28.760790Z"
    }
   },
   "outputs": [
    {
     "data": {
      "text/plain": [
       "(241, 16)"
      ]
     },
     "execution_count": 12,
     "metadata": {},
     "output_type": "execute_result"
    }
   ],
   "source": [
    "df = pd.read_excel('NeutralDetails.xlsx',index=False)\n",
    "df.shape\n"
   ]
  },
  {
   "cell_type": "code",
   "execution_count": 22,
   "metadata": {
    "ExecuteTime": {
     "end_time": "2020-11-29T23:45:33.793361Z",
     "start_time": "2020-11-29T23:45:31.267851Z"
    }
   },
   "outputs": [
    {
     "data": {
      "image/png": "[encoded data removed]",
      "text/plain": [
       "<Figure size 432x288 with 1 Axes>"
      ]
     },
     "metadata": {
      "needs_background": "light"
     },
     "output_type": "display_data"
    }
   ],
   "source": [
    "import seaborn as sns\n",
    "%matplotlib inline\n",
    "\n",
    "Y = [396,241,437]\n",
    "X = ['Pro','Neutral','Anti']\n",
    "ax = sns.barplot(x=X, y=Y)\n",
    "ax.get_figure().savefig(\"output.png\",transparent=True,dpi=1000)"
   ]
  }
 ],
 "metadata": {
  "hide_input": false,
  "kernelspec": {
   "display_name": "Python 3",
   "language": "python",
   "name": "python3"
  },
  "language_info": {
   "codemirror_mode": {
    "name": "ipython",
    "version": 3
   },
   "file_extension": ".py",
   "mimetype": "text/x-python",
   "name": "python",
   "nbconvert_exporter": "python",
   "pygments_lexer": "ipython3",
   "version": "3.7.3"
  },
  "toc": {
   "base_numbering": 1,
   "nav_menu": {},
   "number_sections": true,
   "sideBar": true,
   "skip_h1_title": false,
   "title_cell": "Table of Contents",
   "title_sidebar": "Contents",
   "toc_cell": false,
   "toc_position": {},
   "toc_section_display": true,
   "toc_window_display": false
  },
  "varInspector": {
   "cols": {
    "lenName": 16,
    "lenType": 16,
    "lenVar": 40
   },
   "kernels_config": {
    "python": {
     "delete_cmd_postfix": "",
     "delete_cmd_prefix": "del ",
     "library": "var_list.py",
     "varRefreshCmd": "print(var_dic_list())"
    },
    "r": {
     "delete_cmd_postfix": ") ",
     "delete_cmd_prefix": "rm(",
     "library": "var_list.r",
     "varRefreshCmd": "cat(var_dic_list()) "
    }
   },
   "types_to_exclude": [
    "module",
    "function",
    "builtin_function_or_method",
    "instance",
    "_Feature"
   ],
   "window_display": false
  }
 },
 "nbformat": 4,
 "nbformat_minor": 2
}
