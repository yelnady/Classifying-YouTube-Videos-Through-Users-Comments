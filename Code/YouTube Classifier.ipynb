{
 "cells": [
  {
   "cell_type": "code",
   "execution_count": 4,
   "metadata": {
    "ExecuteTime": {
     "end_time": "2020-12-08T20:13:39.444650Z",
     "start_time": "2020-12-08T20:13:36.669568Z"
    }
   },
   "outputs": [],
   "source": [
    "from sklearn.feature_extraction.text import TfidfVectorizer, CountVectorizer, TfidfTransformer\n",
    "from sklearn.decomposition import TruncatedSVD\n",
    "from sklearn.model_selection import train_test_split\n",
    "from sklearn.pipeline import Pipeline\n",
    "from sklearn.naive_bayes import MultinomialNB\n",
    "from sklearn.model_selection import GridSearchCV\n",
    "from sklearn.metrics import classification_report, confusion_matrix, precision_score, recall_score, f1_score\n",
    "from sklearn.preprocessing import MinMaxScaler\n",
    "from sklearn.linear_model import SGDClassifier\n",
    "from nltk.corpus import stopwords \n",
    "from nltk.tokenize import word_tokenize \n",
    "from nltk.stem.snowball import SnowballStemmer\n",
    "from matplotlib import pyplot as plt\n",
    "import pandas as pd\n",
    "import gensim\n",
    "from sklearn import metrics\n",
    "import seaborn as sns"
   ]
  },
  {
   "cell_type": "code",
   "execution_count": 36,
   "metadata": {
    "ExecuteTime": {
     "end_time": "2020-12-08T21:03:54.031760Z",
     "start_time": "2020-12-08T21:03:54.020790Z"
    }
   },
   "outputs": [],
   "source": [
    "# Some constants will be used to preprocess the datasets\n",
    "stemmer = SnowballStemmer(\"english\")\n",
    "stop = stopwords.words('english')\n",
    "stop.append('@')\n",
    "pd.set_option('display.max_colwidth', -1)"
   ]
  },
  {
   "cell_type": "code",
   "execution_count": null,
   "metadata": {
    "ExecuteTime": {
     "end_time": "2020-11-28T01:54:18.493425Z",
     "start_time": "2020-11-28T01:53:13.536620Z"
    }
   },
   "outputs": [],
   "source": [
    "pip install nltk\n",
    "pip install gensim"
   ]
  },
  {
   "cell_type": "code",
   "execution_count": 18,
   "metadata": {
    "ExecuteTime": {
     "end_time": "2020-12-08T20:35:03.118321Z",
     "start_time": "2020-12-08T20:35:03.103362Z"
    }
   },
   "outputs": [],
   "source": [
    "# Return Accuracy, Precision, Recall, F-Score\n",
    "def print_metrics(pred,y_test):\n",
    "    acc= np.mean(pred == y_test)*100\n",
    "    f_score= f1_score(y_test, pred,average='weighted')*100\n",
    "    p = precision_score(y_test, pred,average='weighted')*100\n",
    "    r = recall_score(y_test, pred,average='weighted',labels=np.unique(pred))*100\n",
    "    print(\"Accuracy is\",acc)\n",
    "    print(\"Precision is\",p)\n",
    "    print(\"Recall is\",r)\n",
    "    print(\"F1-Score is\",f_score)\n",
    "    return acc, p, r, f_score"
   ]
  },
  {
   "cell_type": "code",
   "execution_count": 95,
   "metadata": {
    "ExecuteTime": {
     "end_time": "2020-12-08T23:45:42.430570Z",
     "start_time": "2020-12-08T23:45:42.390677Z"
    }
   },
   "outputs": [],
   "source": [
    "## Accuracy, Precision, Recall\n",
    "\n",
    "# More Advanced Function that helps a lot in evaluating the algorithms on our datasets\n",
    "def print_results(y_test,predicted,predicted_prob):\n",
    "    classes = np.unique(y_test)\n",
    "    accuracy = metrics.accuracy_score(y_test, predicted)\n",
    "    auc = metrics.roc_auc_score(y_test, predicted_prob, \n",
    "                                multi_class=\"ovr\")\n",
    "    print(\"Accuracy:\",  round(accuracy,2))\n",
    "    print(\"Area Under The Curve:\", round(auc,2))\n",
    "    print(\"Detail:\")\n",
    "    print(metrics.classification_report(y_test, predicted))\n",
    "    \n",
    "    ## Plot confusion matrix\n",
    "    cm = metrics.confusion_matrix(y_test, predicted)\n",
    "    make_confusion_matrix(cf=cm,figsize=(8,5))\n",
    "\n",
    "    \n",
    "# https://github.com/DTrimarchi10/confusion_matrix/blob/master/cf_matrix.py\n",
    "# Draws the confusion matrix in a very nice way\n",
    "def make_confusion_matrix(cf,\n",
    "                          group_names=None,\n",
    "                          categories='auto',\n",
    "                          count=True,\n",
    "                          percent=True,\n",
    "                          cbar=True,\n",
    "                          xyticks=True,\n",
    "                          xyplotlabels=True,\n",
    "                          sum_stats=True,\n",
    "                          figsize=None,\n",
    "                          cmap='Blues',\n",
    "                          title=\"Confusion Matrix\"):\n",
    "    '''\n",
    "    This function will make a pretty plot of an sklearn Confusion Matrix cm using a Seaborn heatmap visualization.\n",
    "    Arguments\n",
    "    ---------\n",
    "    cf:            confusion matrix to be passed in\n",
    "    group_names:   List of strings that represent the labels row by row to be shown in each square.\n",
    "    categories:    List of strings containing the categories to be displayed on the x,y axis. Default is 'auto'\n",
    "    count:         If True, show the raw number in the confusion matrix. Default is True.\n",
    "    normalize:     If True, show the proportions for each category. Default is True.\n",
    "    cbar:          If True, show the color bar. The cbar values are based off the values in the confusion matrix.\n",
    "                   Default is True.\n",
    "    xyticks:       If True, show x and y ticks. Default is True.\n",
    "    xyplotlabels:  If True, show 'True Label' and 'Predicted Label' on the figure. Default is True.\n",
    "    sum_stats:     If True, display summary statistics below the figure. Default is True.\n",
    "    figsize:       Tuple representing the figure size. Default will be the matplotlib rcParams value.\n",
    "    cmap:          Colormap of the values displayed from matplotlib.pyplot.cm. Default is 'Blues'\n",
    "                   See http://matplotlib.org/examples/color/colormaps_reference.html\n",
    "                   \n",
    "    title:         Title for the heatmap. Default is None.\n",
    "    '''\n",
    "\n",
    "\n",
    "    # CODE TO GENERATE TEXT INSIDE EACH SQUARE\n",
    "    blanks = ['' for i in range(cf.size)]\n",
    "\n",
    "    if group_names and len(group_names)==cf.size:\n",
    "        group_labels = [\"{}\\n\".format(value) for value in group_names]\n",
    "    else:\n",
    "        group_labels = blanks\n",
    "\n",
    "    if count:\n",
    "        group_counts = [\"{0:0.0f}\\n\".format(value) for value in cf.flatten()]\n",
    "    else:\n",
    "        group_counts = blanks\n",
    "\n",
    "    if percent:\n",
    "        group_percentages = [\"{0:.2%}\".format(value) for value in cf.flatten()/np.sum(cf)]\n",
    "    else:\n",
    "        group_percentages = blanks\n",
    "\n",
    "    box_labels = [f\"{v1}{v2}{v3}\".strip() for v1, v2, v3 in zip(group_labels,group_counts,group_percentages)]\n",
    "    box_labels = np.asarray(box_labels).reshape(cf.shape[0],cf.shape[1])\n",
    "\n",
    "\n",
    "    # CODE TO GENERATE SUMMARY STATISTICS & TEXT FOR SUMMARY STATS\n",
    "    if sum_stats:\n",
    "        #Accuracy is sum of diagonal divided by total observations\n",
    "        accuracy  = np.trace(cf) / float(np.sum(cf))\n",
    "\n",
    "        #if it is a binary confusion matrix, show some more stats\n",
    "        if len(cf)==2:\n",
    "            #Metrics for Binary Confusion Matrices\n",
    "            precision = cf[1,1] / sum(cf[:,1])\n",
    "            recall    = cf[1,1] / sum(cf[1,:])\n",
    "            f1_score  = 2*precision*recall / (precision + recall)\n",
    "            stats_text = \"\\n\\nAccuracy={:0.3f}\\nPrecision={:0.3f}\\nRecall={:0.3f}\\nF1 Score={:0.3f}\".format(\n",
    "                accuracy,precision,recall,f1_score)\n",
    "        else:\n",
    "            stats_text = \"\\n\\nAccuracy={:0.3f}\".format(accuracy)\n",
    "    else:\n",
    "        stats_text = \"\"\n",
    "\n",
    "\n",
    "    # SET FIGURE PARAMETERS ACCORDING TO OTHER ARGUMENTS\n",
    "    if figsize==None:\n",
    "        #Get default figure size if not set\n",
    "        figsize = plt.rcParams.get('figure.figsize')\n",
    "\n",
    "    if xyticks==False:\n",
    "        #Do not show categories if xyticks is False\n",
    "        categories=False\n",
    "\n",
    "\n",
    "    # MAKE THE HEATMAP VISUALIZATION\n",
    "    plt.figure(figsize=figsize)\n",
    "    sns.heatmap(cf,annot=box_labels,fmt=\"\",cmap=cmap,cbar=cbar,xticklabels=categories,yticklabels=categories)\n",
    "\n",
    "    if xyplotlabels:\n",
    "        plt.ylabel('True label')\n",
    "        plt.xlabel('Predicted label' + stats_text)\n",
    "    else:\n",
    "        plt.xlabel(stats_text)\n",
    "    \n",
    "    if title:\n",
    "        plt.title(title)"
   ]
  },
  {
   "cell_type": "markdown",
   "metadata": {},
   "source": [
    "# Training on 911 Videos"
   ]
  },
  {
   "cell_type": "code",
   "execution_count": 59,
   "metadata": {
    "ExecuteTime": {
     "end_time": "2020-12-08T23:23:41.390026Z",
     "start_time": "2020-12-08T23:22:43.766453Z"
    }
   },
   "outputs": [],
   "source": [
    "df_911 = pd.read_excel('All911Comments.xlsx',index=False).dropna()\n",
    "\n",
    "#Removing '\\n' and '\\t' with ' '\n",
    "df_911['comment'] =  df_911['comment'].str.replace('\\n',' ')\n",
    "df_911['comment'] =  df_911['comment'].str.replace('\\t',' ')"
   ]
  },
  {
   "cell_type": "markdown",
   "metadata": {},
   "source": [
    "## Trying Without any Stemming and with Stopwords using MultinomialNB"
   ]
  },
  {
   "cell_type": "code",
   "execution_count": 60,
   "metadata": {
    "ExecuteTime": {
     "end_time": "2020-12-08T23:23:45.421852Z",
     "start_time": "2020-12-08T23:23:44.845539Z"
    }
   },
   "outputs": [],
   "source": [
    "X = df_911['comment']\n",
    "Y = df_911['stance']\n",
    "X_train, X_test, y_train, y_test = train_test_split(X, Y, test_size=0.2,random_state=10)\n",
    "X_train = X_train.reset_index(drop=True).tolist()\n",
    "X_test  = X_test.reset_index(drop=True).tolist()\n",
    "y_train = y_train.reset_index(drop=True).tolist()\n",
    "y_test  = y_test.reset_index(drop=True).tolist()"
   ]
  },
  {
   "cell_type": "code",
   "execution_count": 96,
   "metadata": {
    "ExecuteTime": {
     "end_time": "2020-12-08T23:45:46.823824Z",
     "start_time": "2020-12-08T23:45:46.140652Z"
    }
   },
   "outputs": [
    {
     "name": "stdout",
     "output_type": "stream",
     "text": [
      "Accuracy: 0.8\n",
      "Area Under The Curve: 0.92\n",
      "Detail:\n",
      "              precision    recall  f1-score   support\n",
      "\n",
      "          -1       0.68      0.56      0.62     12411\n",
      "           0       0.79      0.80      0.79     33650\n",
      "           1       0.84      0.88      0.86     41102\n",
      "\n",
      "    accuracy                           0.80     87163\n",
      "   macro avg       0.77      0.75      0.76     87163\n",
      "weighted avg       0.80      0.80      0.80     87163\n",
      "\n"
     ]
    },
    {
     "data": {
      "image/png": "[encoded data removed]",
      "text/plain": [
       "<Figure size 576x360 with 2 Axes>"
      ]
     },
     "metadata": {
      "needs_background": "light"
     },
     "output_type": "display_data"
    }
   ],
   "source": [
    "clf_1 = Pipeline([('tfidf', TfidfVectorizer(max_df=0.1, min_df= 0,strip_accents= 'unicode',lowercase=True)),\n",
    "                 ('NB_clf',MultinomialNB(alpha=0.1))])\n",
    "\n",
    "clf_1 = clf_1.fit(X_train, y_train)\n",
    "\n",
    "# Prints the vocab getting from TfidfVectorizer\n",
    "# print('vocabulary: ',clf_1['tfidf'].vocabulary_)\n",
    "\n",
    "pred = clf_1.predict(X_test)\n",
    "print_metrics(pred,y_test)\n",
    "pred_proba = clf_1.predict_proba(X_test)\n",
    "print_results(y_test,pred,pred_proba)"
   ]
  },
  {
   "cell_type": "markdown",
   "metadata": {},
   "source": [
    "## Trying With Stemming Only with MultinomialNB"
   ]
  },
  {
   "cell_type": "code",
   "execution_count": 97,
   "metadata": {
    "ExecuteTime": {
     "end_time": "2020-12-08T23:48:58.797530Z",
     "start_time": "2020-12-08T23:45:57.490305Z"
    }
   },
   "outputs": [],
   "source": [
    "# Stemming\n",
    "df_911_Stemmed = df_911\n",
    "df_911_Stemmed['comment'] = df_911_Stemmed['comment'].apply(lambda x: ' '.join([stemmer.stem(word) for word in x.split()]))\n",
    "\n",
    "X = df_911_Stemmed['comment']\n",
    "Y = df_911_Stemmed['stance']\n",
    "X_train, X_test, y_train, y_test = train_test_split(X, Y, test_size=0.2,random_state=10)\n",
    "X_train = X_train.reset_index(drop=True).tolist()\n",
    "X_test  = X_test.reset_index(drop=True).tolist()\n",
    "y_train = y_train.reset_index(drop=True).tolist()\n",
    "y_test  = y_test.reset_index(drop=True).tolist()"
   ]
  },
  {
   "cell_type": "code",
   "execution_count": 98,
   "metadata": {
    "ExecuteTime": {
     "end_time": "2020-12-08T23:49:17.777781Z",
     "start_time": "2020-12-08T23:49:01.088404Z"
    }
   },
   "outputs": [
    {
     "name": "stdout",
     "output_type": "stream",
     "text": [
      "Accuracy: 0.8\n",
      "Area Under The Curve: 0.92\n",
      "Detail:\n",
      "              precision    recall  f1-score   support\n",
      "\n",
      "          -1       0.69      0.55      0.61     12411\n",
      "           0       0.78      0.80      0.79     33650\n",
      "           1       0.84      0.87      0.86     41102\n",
      "\n",
      "    accuracy                           0.80     87163\n",
      "   macro avg       0.77      0.74      0.75     87163\n",
      "weighted avg       0.79      0.80      0.80     87163\n",
      "\n"
     ]
    },
    {
     "data": {
      "image/png": "[encoded data removed]",
      "text/plain": [
       "<Figure size 576x360 with 2 Axes>"
      ]
     },
     "metadata": {
      "needs_background": "light"
     },
     "output_type": "display_data"
    }
   ],
   "source": [
    "clf_1 = clf_1.fit(X_train, y_train)\n",
    "pred = clf_1.predict(X_test)\n",
    "pred_proba = clf_1.predict_proba(X_test)\n",
    "print_results(y_test,pred,pred_proba)"
   ]
  },
  {
   "cell_type": "markdown",
   "metadata": {
    "ExecuteTime": {
     "end_time": "2020-11-28T16:52:25.978900Z",
     "start_time": "2020-11-28T16:52:25.961945Z"
    }
   },
   "source": [
    "## Trying With Stemming and Removing Stopwords with MultinomialNB "
   ]
  },
  {
   "cell_type": "code",
   "execution_count": 99,
   "metadata": {
    "ExecuteTime": {
     "end_time": "2020-12-08T23:52:26.899113Z",
     "start_time": "2020-12-08T23:49:20.189332Z"
    }
   },
   "outputs": [],
   "source": [
    "#Removing rows that have nan as comment - ALREADY removed while reading the csv\n",
    "\n",
    "df_911_Stemmed_Stopwords = df_911\n",
    "\n",
    "# Stemming\n",
    "df_911_Stemmed_Stopwords['comment'] = df_911_Stemmed_Stopwords['comment'].apply(lambda x: ' '.join([stemmer.stem(word) for word in x.split()]))\n",
    "\n",
    "# Removing Stopwords\n",
    "df_911_Stemmed_Stopwords['comment'] = df_911_Stemmed_Stopwords['comment'].apply(lambda x: ' '.join([word for word in x.split() if word not in (stop) and not word.isdigit()]))\n",
    "\n",
    "X = df_911_Stemmed_Stopwords['comment']\n",
    "Y = df_911_Stemmed_Stopwords['stance']\n",
    "X_train, X_test, y_train, y_test = train_test_split(X, Y, test_size=0.2,random_state=10)\n",
    "X_train = X_train.reset_index(drop=True).tolist()\n",
    "X_test  = X_test.reset_index(drop=True).tolist()\n",
    "y_train = y_train.reset_index(drop=True).tolist()\n",
    "y_test  = y_test.reset_index(drop=True).tolist()"
   ]
  },
  {
   "cell_type": "code",
   "execution_count": 100,
   "metadata": {
    "ExecuteTime": {
     "end_time": "2020-12-08T23:52:40.707191Z",
     "start_time": "2020-12-08T23:52:28.858872Z"
    }
   },
   "outputs": [
    {
     "name": "stdout",
     "output_type": "stream",
     "text": [
      "Accuracy: 0.8\n",
      "Area Under The Curve: 0.92\n",
      "Detail:\n",
      "              precision    recall  f1-score   support\n",
      "\n",
      "          -1       0.68      0.56      0.61     12411\n",
      "           0       0.78      0.79      0.79     33650\n",
      "           1       0.84      0.87      0.86     41102\n",
      "\n",
      "    accuracy                           0.80     87163\n",
      "   macro avg       0.77      0.74      0.75     87163\n",
      "weighted avg       0.79      0.80      0.79     87163\n",
      "\n"
     ]
    },
    {
     "data": {
      "image/png": "[encoded data removed]",
      "text/plain": [
       "<Figure size 576x360 with 2 Axes>"
      ]
     },
     "metadata": {
      "needs_background": "light"
     },
     "output_type": "display_data"
    }
   ],
   "source": [
    "clf_1 = clf_1.fit(X_train, y_train)\n",
    "pred = clf_1.predict(X_test)\n",
    "pred_proba = clf_1.predict_proba(X_test)\n",
    "print_results(y_test,pred,pred_proba)"
   ]
  },
  {
   "cell_type": "code",
   "execution_count": null,
   "metadata": {
    "ExecuteTime": {
     "end_time": "2020-11-28T19:19:39.742518Z",
     "start_time": "2020-11-28T19:19:39.727618Z"
    }
   },
   "outputs": [],
   "source": [
    "## This cell was previously used to choose the best parameter\n",
    "\n",
    "## --------------- GRID SEARCH FOR PARAMETER TUNING -----------------------\n",
    "\n",
    "clf_1 = Pipeline([('tfidf', TfidfVectorizer()),\n",
    "                 ('NB_clf',MultinomialNB())])\n",
    "\n",
    "\n",
    "parameters = {'NB_clf__alpha': [1e-4, 1e-3, 1e-2, 1e-1, 1e0, 1e1, 1e2, 1e3], \n",
    "              'tfidf__max_df':[0.1,0.2,0.3,0.4,0.5,0.6,0.7,0.8,0.9,1],\n",
    "              'tfidf__min_df':[0]}\n",
    "\n",
    "grid_gearch = GridSearchCV(clf_1, parameters, n_jobs=-1)\n",
    "\n",
    "\n",
    "grid_gearch = grid_gearch.fit(X_train, y_train)\n",
    "\n",
    "print(grid_gearch.best_score_, grid_gearch.best_params_)\n",
    "\n",
    "\n",
    "#Output I got for grid search: \n",
    "# 0.7946835229092032 {'NB_clf__alpha': 0.1, 'tfidf__max_df': 0.1, 'tfidf__min_df': 0}"
   ]
  },
  {
   "cell_type": "markdown",
   "metadata": {},
   "source": [
    "## Trying Without any Stemming and with Stopwords using SGDClassifier"
   ]
  },
  {
   "cell_type": "code",
   "execution_count": 101,
   "metadata": {
    "ExecuteTime": {
     "end_time": "2020-12-08T23:52:43.074862Z",
     "start_time": "2020-12-08T23:52:42.859439Z"
    }
   },
   "outputs": [],
   "source": [
    "X = df_911['comment']\n",
    "Y = df_911['stance']\n",
    "X_train, X_test, y_train, y_test = train_test_split(X, Y, test_size=0.2,random_state=10)\n",
    "X_train = X_train.reset_index(drop=True).tolist()\n",
    "X_test  = X_test.reset_index(drop=True).tolist()\n",
    "y_train = y_train.reset_index(drop=True).tolist()\n",
    "y_test  = y_test.reset_index(drop=True).tolist()"
   ]
  },
  {
   "cell_type": "code",
   "execution_count": 102,
   "metadata": {
    "ExecuteTime": {
     "end_time": "2020-12-08T23:53:04.632221Z",
     "start_time": "2020-12-08T23:52:45.801573Z"
    }
   },
   "outputs": [
    {
     "name": "stdout",
     "output_type": "stream",
     "text": [
      "Accuracy: 0.78\n",
      "Area Under The Curve: 0.92\n",
      "Detail:\n",
      "              precision    recall  f1-score   support\n",
      "\n",
      "          -1       0.74      0.41      0.53     12411\n",
      "           0       0.74      0.83      0.78     33650\n",
      "           1       0.84      0.86      0.85     41102\n",
      "\n",
      "    accuracy                           0.78     87163\n",
      "   macro avg       0.77      0.70      0.72     87163\n",
      "weighted avg       0.78      0.78      0.78     87163\n",
      "\n"
     ]
    },
    {
     "data": {
      "image/png": "[encoded data removed]",
      "text/plain": [
       "<Figure size 576x360 with 2 Axes>"
      ]
     },
     "metadata": {
      "needs_background": "light"
     },
     "output_type": "display_data"
    }
   ],
   "source": [
    "clf_2 = Pipeline([('tfidf', TfidfVectorizer(max_df=0.3, min_df= 1e-05,strip_accents= 'unicode',lowercase=True)),\n",
    "                      ('clf-SGD', SGDClassifier(loss='hinge', penalty='l2',alpha=0.0001,max_iter=1500))])\n",
    "\n",
    "clf_2 = clf_2.fit(X=X_train,y=y_train)\n",
    "pred = clf_2.predict(X_test)\n",
    "pred_proba = clf_2.predict_proba(X_test)\n",
    "print_results(y_test,pred,pred_proba)"
   ]
  },
  {
   "cell_type": "markdown",
   "metadata": {},
   "source": [
    "## Trying With Stemming and Removing Stopwords with SGDClassifier "
   ]
  },
  {
   "cell_type": "code",
   "execution_count": 104,
   "metadata": {
    "ExecuteTime": {
     "end_time": "2020-12-08T23:56:58.100978Z",
     "start_time": "2020-12-08T23:54:30.877622Z"
    }
   },
   "outputs": [],
   "source": [
    "\n",
    "#Removing rows that have nan as comment - ALREADY removed while reading the csv\n",
    "\n",
    "df_911_Stemmed_Stopwords = df_911\n",
    "\n",
    "# Stemming\n",
    "df_911_Stemmed_Stopwords['comment'] = df_911_Stemmed_Stopwords['comment'].apply(lambda x: ' '.join([stemmer.stem(word) for word in x.split()]))\n",
    "\n",
    "# Removing Stopwords\n",
    "df_911_Stemmed_Stopwords['comment'] = df_911_Stemmed_Stopwords['comment'].apply(lambda x: ' '.join([word for word in x.split() if word not in (stop) and not word.isdigit()]))\n"
   ]
  },
  {
   "cell_type": "code",
   "execution_count": 105,
   "metadata": {
    "ExecuteTime": {
     "end_time": "2020-12-08T23:57:00.337996Z",
     "start_time": "2020-12-08T23:57:00.149502Z"
    }
   },
   "outputs": [],
   "source": [
    "\n",
    "X = df_911_Stemmed_Stopwords['comment']\n",
    "Y = df_911_Stemmed_Stopwords['stance']\n",
    "X_train, X_test, y_train, y_test = train_test_split(X, Y, test_size=0.2,random_state=10)\n",
    "X_train = X_train.reset_index(drop=True).tolist()\n",
    "X_test  = X_test.reset_index(drop=True).tolist()\n",
    "y_train = y_train.reset_index(drop=True).tolist()\n",
    "y_test  = y_test.reset_index(drop=True).tolist()\n",
    "\n"
   ]
  },
  {
   "cell_type": "code",
   "execution_count": 107,
   "metadata": {
    "ExecuteTime": {
     "end_time": "2020-12-08T23:59:27.651421Z",
     "start_time": "2020-12-08T23:59:27.378154Z"
    }
   },
   "outputs": [
    {
     "name": "stdout",
     "output_type": "stream",
     "text": [
      "Accuracy is 78.40368046074596\n",
      "Precision is 78.32123876550308\n",
      "Recall is 78.40368046074596\n",
      "F1-Score is 77.56776570278316\n"
     ]
    },
    {
     "data": {
      "text/plain": [
       "(78.40368046074596, 78.32123876550308, 78.40368046074596, 77.56776570278316)"
      ]
     },
     "execution_count": 107,
     "metadata": {},
     "output_type": "execute_result"
    }
   ],
   "source": [
    "clf_2 = Pipeline([('tfidf', TfidfVectorizer(max_df=0.1, min_df= 1e-05,strip_accents= 'unicode',lowercase=True)),\n",
    "                      ('clf-SGD', SGDClassifier(loss='hinge', penalty='l2',alpha=0.0001,max_iter=1500))])\n",
    "\n",
    "clf_2 = clf_2.fit(X=X_train,y=y_train)\n",
    "pred = clf_2.predict(X_test)\n",
    "pred_proba = clf_2.predict_proba(X_test)\n",
    "print_metrics(pred,y_test)"
   ]
  },
  {
   "cell_type": "code",
   "execution_count": null,
   "metadata": {
    "ExecuteTime": {
     "end_time": "2020-11-29T02:19:42.904362Z",
     "start_time": "2020-11-29T02:01:16.845656Z"
    }
   },
   "outputs": [],
   "source": [
    "## This cell was previously used to choose the best parameter\n",
    "\n",
    "## --------------- GRID SEARCH FOR PARAMETER TUNING -----------------------\n",
    "\n",
    "\n",
    "clf_2 = Pipeline([('tfidf', TfidfVectorizer()),\n",
    "                 ('SGD_clf',SGDClassifier( penalty='l2'))])\n",
    "\n",
    "parameters = {'SGD_clf__alpha':[1e-4, 1e-3, 1e-2, 1e-1, 1e0, 1e1, 1e2, 1e3],\n",
    "              'SGD_clf__loss': ['log','hinge']}\n",
    "\n",
    "grid_gearch_2 = GridSearchCV(clf_2, parameters, n_jobs=-1,scoring='accuracy')\n",
    "\n",
    "\n",
    "grid_gearch_2 = grid_gearch_2.fit(X_train, y_train)\n",
    "\n",
    "print(grid_gearch_2.best_score_, grid_gearch_2.best_params_)\n",
    "\n",
    "# The best params I got for GRID Search CV is:\n",
    "\n",
    "# 0.7818082171638323 {'SGD_clf__alpha': 0.0001, 'SGD_clf__loss': 'hinge'}"
   ]
  },
  {
   "cell_type": "markdown",
   "metadata": {
    "ExecuteTime": {
     "end_time": "2020-11-28T17:00:42.835432Z",
     "start_time": "2020-11-28T17:00:42.827942Z"
    },
    "heading_collapsed": true
   },
   "source": [
    "# Training on Moon Landing Comments"
   ]
  },
  {
   "cell_type": "code",
   "execution_count": 108,
   "metadata": {
    "ExecuteTime": {
     "end_time": "2020-12-09T00:00:06.544429Z",
     "start_time": "2020-12-08T23:59:43.539938Z"
    },
    "hidden": true
   },
   "outputs": [],
   "source": [
    "df_moon = pd.read_excel('AllMoonLandingComments.xlsx',index=False).dropna()\n",
    "\n",
    "#Removing '\\n' and '\\t' with ' '\n",
    "df_moon['comment'] =  df_moon['comment'].str.replace('\\n',' ')\n",
    "df_moon['comment'] =  df_moon['comment'].str.replace('\\t',' ')"
   ]
  },
  {
   "cell_type": "code",
   "execution_count": 109,
   "metadata": {
    "ExecuteTime": {
     "end_time": "2020-12-09T00:00:09.241220Z",
     "start_time": "2020-12-09T00:00:09.134505Z"
    },
    "hidden": true
   },
   "outputs": [],
   "source": [
    "X = df_moon['comment']\n",
    "Y = df_moon['stance']\n",
    "X_train, X_test, y_train, y_test = train_test_split(X, Y, test_size=0.2,random_state=10)\n",
    "X_train = X_train.reset_index(drop=True).tolist()\n",
    "X_test  = X_test.reset_index(drop=True).tolist()\n",
    "y_train = y_train.reset_index(drop=True).tolist()\n",
    "y_test  = y_test.reset_index(drop=True).tolist()"
   ]
  },
  {
   "cell_type": "code",
   "execution_count": 110,
   "metadata": {
    "ExecuteTime": {
     "end_time": "2020-12-09T00:00:17.534047Z",
     "start_time": "2020-12-09T00:00:09.244212Z"
    },
    "hidden": true
   },
   "outputs": [
    {
     "name": "stdout",
     "output_type": "stream",
     "text": [
      "Accuracy: 0.76\n",
      "Area Under The Curve: 0.74\n",
      "Detail:\n",
      "              precision    recall  f1-score   support\n",
      "\n",
      "          -1       0.76      0.99      0.86     24157\n",
      "           0       0.49      0.06      0.10      2572\n",
      "           1       0.75      0.12      0.21      5585\n",
      "\n",
      "    accuracy                           0.76     32314\n",
      "   macro avg       0.67      0.39      0.39     32314\n",
      "weighted avg       0.74      0.76      0.69     32314\n",
      "\n"
     ]
    },
    {
     "data": {
      "image/png": "[encoded data removed]",
      "text/plain": [
       "<Figure size 576x360 with 2 Axes>"
      ]
     },
     "metadata": {
      "needs_background": "light"
     },
     "output_type": "display_data"
    }
   ],
   "source": [
    "clf_1 = Pipeline([('tfidf', TfidfVectorizer(max_df=0.1, min_df= 0,strip_accents= 'unicode',lowercase=True)),\n",
    "                 ('NB_clf',MultinomialNB(alpha=0.1))])\n",
    "\n",
    "clf_1 = clf_1.fit(X_train, y_train)\n",
    "\n",
    "# Prints the vocab getting from TfidfVectorizer\n",
    "# print('vocabulary: ',clf_1['tfidf'].vocabulary_)\n",
    "\n",
    "pred = clf_1.predict(X_test)\n",
    "pred_proba = clf_1.predict_proba(X_test)\n",
    "print_results(y_test,pred,pred_proba)"
   ]
  },
  {
   "cell_type": "code",
   "execution_count": 112,
   "metadata": {
    "ExecuteTime": {
     "end_time": "2020-12-09T00:03:52.987027Z",
     "start_time": "2020-12-09T00:03:44.616410Z"
    },
    "hidden": true
   },
   "outputs": [
    {
     "name": "stdout",
     "output_type": "stream",
     "text": [
      "Accuracy is 75.72259701677292\n",
      "Precision is 80.49781768373175\n",
      "Recall is 75.72259701677292\n",
      "F1-Score is 66.25606148241756\n"
     ]
    },
    {
     "data": {
      "text/plain": [
       "(75.72259701677292, 80.49781768373175, 75.72259701677292, 66.25606148241756)"
      ]
     },
     "execution_count": 112,
     "metadata": {},
     "output_type": "execute_result"
    }
   ],
   "source": [
    "clf_2 = Pipeline([('tfidf', TfidfVectorizer(max_df=0.1, min_df= 1e-05,strip_accents= 'unicode',lowercase=True)),\n",
    "                      ('clf-SGD', SGDClassifier(loss='hinge', penalty='l2',alpha=0.0001,max_iter=1500))])\n",
    "\n",
    "clf_2 = clf_2.fit(X=X_train,y=y_train)\n",
    "pred = clf_2.predict(X_test)\n",
    "#probability estimates are not available for loss='hinge'\n",
    "print_metrics(pred,y_test)"
   ]
  },
  {
   "cell_type": "code",
   "execution_count": 113,
   "metadata": {
    "ExecuteTime": {
     "end_time": "2020-12-09T00:05:47.089942Z",
     "start_time": "2020-12-09T00:03:54.723383Z"
    },
    "hidden": true
   },
   "outputs": [],
   "source": [
    "#Removing rows that have nan as comment - ALREADY removed while reading the csv\n",
    "\n",
    "df_moon_Stemmed_Stopwords = df_moon\n",
    "\n",
    "# Stemming\n",
    "df_moon_Stemmed_Stopwords['comment'] = df_moon_Stemmed_Stopwords['comment'].apply(lambda x: ' '.join([stemmer.stem(word) for word in x.split()]))\n",
    "\n",
    "# Removing Stopwords\n",
    "df_moon_Stemmed_Stopwords['comment'] = df_moon_Stemmed_Stopwords['comment'].apply(lambda x: ' '.join([word for word in x.split() if word not in (stop) and not word.isdigit()]))\n",
    "\n",
    "X = df_moon_Stemmed_Stopwords['comment']\n",
    "Y = df_moon_Stemmed_Stopwords['stance']\n",
    "X_train, X_test, y_train, y_test = train_test_split(X, Y, test_size=0.2,random_state=10)\n",
    "X_train = X_train.reset_index(drop=True).tolist()\n",
    "X_test  = X_test.reset_index(drop=True).tolist()\n",
    "y_train = y_train.reset_index(drop=True).tolist()\n",
    "y_test  = y_test.reset_index(drop=True).tolist()"
   ]
  },
  {
   "cell_type": "code",
   "execution_count": 114,
   "metadata": {
    "ExecuteTime": {
     "end_time": "2020-12-09T00:05:56.596524Z",
     "start_time": "2020-12-09T00:05:48.999834Z"
    },
    "hidden": true
   },
   "outputs": [
    {
     "name": "stdout",
     "output_type": "stream",
     "text": [
      "Accuracy: 0.76\n",
      "Area Under The Curve: 0.73\n",
      "Detail:\n",
      "              precision    recall  f1-score   support\n",
      "\n",
      "          -1       0.76      0.98      0.86     24157\n",
      "           0       0.49      0.06      0.10      2572\n",
      "           1       0.73      0.12      0.20      5585\n",
      "\n",
      "    accuracy                           0.76     32314\n",
      "   macro avg       0.66      0.39      0.39     32314\n",
      "weighted avg       0.74      0.76      0.69     32314\n",
      "\n"
     ]
    },
    {
     "data": {
      "image/png": "[encoded data removed]",
      "text/plain": [
       "<Figure size 576x360 with 2 Axes>"
      ]
     },
     "metadata": {
      "needs_background": "light"
     },
     "output_type": "display_data"
    }
   ],
   "source": [
    "clf_1 = Pipeline([('tfidf', TfidfVectorizer(max_df=0.1, min_df= 0,strip_accents= 'unicode',lowercase=True)),\n",
    "                 ('NB_clf',MultinomialNB(alpha=0.1))])\n",
    "\n",
    "\n",
    "clf_1 = clf_1.fit(X_train, y_train)\n",
    "pred = clf_1.predict(X_test)\n",
    "pred_proba = clf_1.predict_proba(X_test)\n",
    "#probability estimates are not available for loss='hinge'\n",
    "print_results(y_test,pred,pred_proba)"
   ]
  },
  {
   "cell_type": "code",
   "execution_count": 115,
   "metadata": {
    "ExecuteTime": {
     "end_time": "2020-12-09T00:06:07.536273Z",
     "start_time": "2020-12-09T00:05:58.726827Z"
    },
    "hidden": true
   },
   "outputs": [
    {
     "name": "stdout",
     "output_type": "stream",
     "text": [
      "Accuracy is 75.70093457943925\n",
      "Precision is 80.46289652071563\n",
      "Recall is 75.70093457943925\n",
      "F1-Score is 66.21143457752353\n"
     ]
    },
    {
     "data": {
      "text/plain": [
       "(75.70093457943925, 80.46289652071563, 75.70093457943925, 66.21143457752353)"
      ]
     },
     "execution_count": 115,
     "metadata": {},
     "output_type": "execute_result"
    }
   ],
   "source": [
    "clf_2 = Pipeline([('tfidf', TfidfVectorizer(max_df=0.1, min_df= 1e-05,strip_accents= 'unicode',lowercase=True)),\n",
    "                      ('clf-sgd', SGDClassifier(loss='hinge', penalty='l2',alpha=0.0001,max_iter=1500))])\n",
    "\n",
    "clf_2 = clf_2.fit(X=X_train,y=y_train)\n",
    "pred = clf_2.predict(X_test)\n",
    "#probability estimates are not available for loss='hinge'\n",
    "\n",
    "print_metrics(pred,y_test)"
   ]
  },
  {
   "cell_type": "markdown",
   "metadata": {
    "heading_collapsed": true
   },
   "source": [
    "# Train on Vaccine Videos"
   ]
  },
  {
   "cell_type": "code",
   "execution_count": 116,
   "metadata": {
    "ExecuteTime": {
     "end_time": "2020-12-09T00:06:49.643686Z",
     "start_time": "2020-12-09T00:06:08.999360Z"
    },
    "hidden": true
   },
   "outputs": [],
   "source": [
    "df_vaccine = pd.read_excel('AllVaccinesComments.xlsx',index=False).dropna()\n",
    "\n",
    "#Removing '\\n' and '\\t' with ' '\n",
    "df_vaccine['comment'] =  df_vaccine['comment'].str.replace('\\n',' ')\n",
    "df_vaccine['comment'] =  df_vaccine['comment'].str.replace('\\t',' ')"
   ]
  },
  {
   "cell_type": "markdown",
   "metadata": {
    "hidden": true
   },
   "source": [
    "## Trying all results without stemming and without removing stopwords"
   ]
  },
  {
   "cell_type": "code",
   "execution_count": 117,
   "metadata": {
    "ExecuteTime": {
     "end_time": "2020-12-09T00:06:51.119739Z",
     "start_time": "2020-12-09T00:06:50.962161Z"
    },
    "hidden": true
   },
   "outputs": [],
   "source": [
    "X = df_vaccine['comment']\n",
    "Y = df_vaccine['stance']\n",
    "X_train, X_test, y_train, y_test = train_test_split(X, Y, test_size=0.2,random_state=10)\n",
    "X_train = X_train.reset_index(drop=True).tolist()\n",
    "X_test  = X_test.reset_index(drop=True).tolist()\n",
    "y_train = y_train.reset_index(drop=True).tolist()\n",
    "y_test  = y_test.reset_index(drop=True).tolist()"
   ]
  },
  {
   "cell_type": "code",
   "execution_count": 118,
   "metadata": {
    "ExecuteTime": {
     "end_time": "2020-12-09T00:07:11.338682Z",
     "start_time": "2020-12-09T00:06:53.815531Z"
    },
    "hidden": true
   },
   "outputs": [
    {
     "name": "stdout",
     "output_type": "stream",
     "text": [
      "Accuracy: 0.79\n",
      "Area Under The Curve: 0.82\n",
      "Detail:\n",
      "              precision    recall  f1-score   support\n",
      "\n",
      "          -1       0.79      0.98      0.87     53164\n",
      "           0       0.82      0.26      0.40     14055\n",
      "           1       0.72      0.07      0.14      4090\n",
      "\n",
      "    accuracy                           0.79     71309\n",
      "   macro avg       0.78      0.44      0.47     71309\n",
      "weighted avg       0.79      0.79      0.74     71309\n",
      "\n"
     ]
    },
    {
     "data": {
      "image/png": "[encoded data removed]",
      "text/plain": [
       "<Figure size 576x360 with 2 Axes>"
      ]
     },
     "metadata": {
      "needs_background": "light"
     },
     "output_type": "display_data"
    }
   ],
   "source": [
    "clf_1 = Pipeline([('tfidf', TfidfVectorizer(max_df=0.1, min_df= 0,strip_accents= 'unicode',lowercase=True)),\n",
    "                 ('NB_clf',MultinomialNB(alpha=0.1))])\n",
    "\n",
    "\n",
    "clf_1 = clf_1.fit(X_train, y_train)\n",
    "pred = clf_1.predict(X_test)\n",
    "pred_proba = clf_1.predict_proba(X_test)\n",
    "print_results(y_test,pred,pred_proba)"
   ]
  },
  {
   "cell_type": "code",
   "execution_count": null,
   "metadata": {
    "ExecuteTime": {
     "end_time": "2020-12-09T00:00:25.118767Z",
     "start_time": "2020-12-09T00:00:09.146Z"
    },
    "hidden": true
   },
   "outputs": [],
   "source": [
    "clf_2 = Pipeline([('tfidf', TfidfVectorizer(max_df=0.1, min_df= 1e-05,strip_accents= 'unicode',lowercase=True)),\n",
    "                      ('clf-SGD', SGDClassifier(loss='hinge', penalty='l2',alpha=0.0001,max_iter=1000))])\n",
    "\n",
    "clf_2 = clf_2.fit(X=X_train,y=y_train)\n",
    "pred = clf_2.predict(X_test)\n",
    "#probability estimates are not available for loss='hinge'\n",
    "\n",
    "print_metrics(pred,y_test)"
   ]
  },
  {
   "cell_type": "markdown",
   "metadata": {
    "hidden": true
   },
   "source": [
    "## Trying all results with stemming and with removing stopwords"
   ]
  },
  {
   "cell_type": "code",
   "execution_count": 119,
   "metadata": {
    "ExecuteTime": {
     "end_time": "2020-12-09T00:10:45.975788Z",
     "start_time": "2020-12-09T00:07:14.043446Z"
    },
    "hidden": true
   },
   "outputs": [],
   "source": [
    "#Removing rows that have nan as comment - ALREADY removed while reading the csv\n",
    "\n",
    "df_vaccine_Stemmed_Stopwords = df_vaccine\n",
    "\n",
    "# Stemming\n",
    "df_vaccine_Stemmed_Stopwords['comment'] = df_vaccine_Stemmed_Stopwords['comment'].apply(lambda x: ' '.join([stemmer.stem(word) for word in x.split()]))\n",
    "\n",
    "# Removing Stopwords\n",
    "df_vaccine_Stemmed_Stopwords['comment'] = df_vaccine_Stemmed_Stopwords['comment'].apply(lambda x: ' '.join([word for word in x.split() if word not in (stop) and not word.isdigit()]))\n",
    "\n",
    "X = df_vaccine_Stemmed_Stopwords['comment']\n",
    "Y = df_vaccine_Stemmed_Stopwords['stance']\n",
    "X_train, X_test, y_train, y_test = train_test_split(X, Y, test_size=0.2,random_state=10)\n",
    "X_train = X_train.reset_index(drop=True).tolist()\n",
    "X_test  = X_test.reset_index(drop=True).tolist()\n",
    "y_train = y_train.reset_index(drop=True).tolist()\n",
    "y_test  = y_test.reset_index(drop=True).tolist()"
   ]
  },
  {
   "cell_type": "code",
   "execution_count": 120,
   "metadata": {
    "ExecuteTime": {
     "end_time": "2020-12-09T00:11:01.762579Z",
     "start_time": "2020-12-09T00:10:48.793253Z"
    },
    "hidden": true
   },
   "outputs": [
    {
     "name": "stdout",
     "output_type": "stream",
     "text": [
      "Accuracy: 0.79\n",
      "Area Under The Curve: 0.81\n",
      "Detail:\n",
      "              precision    recall  f1-score   support\n",
      "\n",
      "          -1       0.79      0.98      0.87     53164\n",
      "           0       0.82      0.25      0.39     14055\n",
      "           1       0.74      0.08      0.14      4090\n",
      "\n",
      "    accuracy                           0.79     71309\n",
      "   macro avg       0.78      0.44      0.47     71309\n",
      "weighted avg       0.79      0.79      0.74     71309\n",
      "\n"
     ]
    },
    {
     "data": {
      "image/png": "[encoded data removed]",
      "text/plain": [
       "<Figure size 576x360 with 2 Axes>"
      ]
     },
     "metadata": {
      "needs_background": "light"
     },
     "output_type": "display_data"
    }
   ],
   "source": [
    "clf_1 = Pipeline([('tfidf', TfidfVectorizer(max_df=0.1, min_df= 0,strip_accents= 'unicode',lowercase=True)),\n",
    "                 ('NB_clf',MultinomialNB(alpha=0.1))])\n",
    "\n",
    "\n",
    "clf_1 = clf_1.fit(X_train, y_train)\n",
    "pred = clf_1.predict(X_test)\n",
    "pred_proba = clf_1.predict_proba(X_test)\n",
    "print_results(y_test,pred,pred_proba)"
   ]
  },
  {
   "cell_type": "code",
   "execution_count": 121,
   "metadata": {
    "ExecuteTime": {
     "end_time": "2020-12-09T00:11:15.883819Z",
     "start_time": "2020-12-09T00:11:04.193078Z"
    },
    "hidden": true
   },
   "outputs": [
    {
     "name": "stdout",
     "output_type": "stream",
     "text": [
      "Accuracy is 77.51195501269125\n",
      "Precision is 79.79674322773663\n",
      "Recall is 77.51195501269125\n",
      "F1-Score is 70.63402870881863\n"
     ]
    },
    {
     "data": {
      "text/plain": [
       "(77.51195501269125, 79.79674322773663, 77.51195501269125, 70.63402870881863)"
      ]
     },
     "execution_count": 121,
     "metadata": {},
     "output_type": "execute_result"
    }
   ],
   "source": [
    "clf_2 = Pipeline([('tfidf', TfidfVectorizer(max_df=0.1, min_df= 1e-05,strip_accents= 'unicode',lowercase=True)),\n",
    "                      ('clf-SGD', SGDClassifier(loss='hinge', penalty='l2',alpha=0.0001,max_iter=1000))])\n",
    "\n",
    "clf_2 = clf_2.fit(X=X_train,y=y_train)\n",
    "pred = clf_2.predict(X_test)\n",
    "print_metrics(pred,y_test)"
   ]
  },
  {
   "cell_type": "markdown",
   "metadata": {
    "heading_collapsed": true
   },
   "source": [
    "# Training on Flat Earth"
   ]
  },
  {
   "cell_type": "code",
   "execution_count": 122,
   "metadata": {
    "ExecuteTime": {
     "end_time": "2020-12-09T00:12:41.284478Z",
     "start_time": "2020-12-09T00:11:18.189654Z"
    },
    "hidden": true
   },
   "outputs": [],
   "source": [
    "df_flat = pd.read_excel('AllFlatEarthComments.xlsx',index=False).dropna()\n",
    "\n",
    "#Removing '\\n' and '\\t' with ' '\n",
    "df_flat['comment'] =  df_flat['comment'].str.replace('\\n',' ')\n",
    "df_flat['comment'] =  df_flat['comment'].str.replace('\\t',' ')\n",
    "\n",
    "X = df_flat['comment']\n",
    "Y = df_flat['stance']\n",
    "X_train, X_test, y_train, y_test = train_test_split(X, Y, test_size=0.2,random_state=10)\n",
    "X_train = X_train.reset_index(drop=True).tolist()\n",
    "X_test  = X_test.reset_index(drop=True).tolist()\n",
    "y_train = y_train.reset_index(drop=True).tolist()\n",
    "y_test  = y_test.reset_index(drop=True).tolist()"
   ]
  },
  {
   "cell_type": "code",
   "execution_count": 123,
   "metadata": {
    "ExecuteTime": {
     "end_time": "2020-12-09T00:13:15.997662Z",
     "start_time": "2020-12-09T00:12:45.269822Z"
    },
    "hidden": true
   },
   "outputs": [
    {
     "name": "stdout",
     "output_type": "stream",
     "text": [
      "Accuracy: 0.82\n",
      "Area Under The Curve: 0.76\n",
      "Detail:\n",
      "              precision    recall  f1-score   support\n",
      "\n",
      "          -1       0.82      0.99      0.90    126588\n",
      "           0       0.64      0.06      0.11     22501\n",
      "           1       0.83      0.24      0.37      8089\n",
      "\n",
      "    accuracy                           0.82    157178\n",
      "   macro avg       0.76      0.43      0.46    157178\n",
      "weighted avg       0.80      0.82      0.76    157178\n",
      "\n"
     ]
    },
    {
     "data": {
      "image/png": "[encoded data removed]",
      "text/plain": [
       "<Figure size 576x360 with 2 Axes>"
      ]
     },
     "metadata": {
      "needs_background": "light"
     },
     "output_type": "display_data"
    }
   ],
   "source": [
    "clf_1 = Pipeline([('tfidf', TfidfVectorizer(max_df=0.1, min_df= 0,strip_accents= 'unicode',lowercase=True)),\n",
    "                 ('NB_clf',MultinomialNB(alpha=0.1))])\n",
    "\n",
    "\n",
    "clf_1 = clf_1.fit(X_train, y_train)\n",
    "pred = clf_1.predict(X_test)\n",
    "pred_proba = clf_1.predict_proba(X_test)\n",
    "print_results(y_test,pred,pred_proba)"
   ]
  },
  {
   "cell_type": "code",
   "execution_count": 124,
   "metadata": {
    "ExecuteTime": {
     "end_time": "2020-12-09T00:13:47.668980Z",
     "start_time": "2020-12-09T00:13:19.871307Z"
    },
    "hidden": true
   },
   "outputs": [
    {
     "name": "stdout",
     "output_type": "stream",
     "text": [
      "Accuracy is 81.58775401137564\n",
      "Precision is 81.53087588094917\n",
      "Recall is 81.58775401137564\n",
      "F1-Score is 74.36754486189021\n"
     ]
    },
    {
     "data": {
      "text/plain": [
       "(81.58775401137564, 81.53087588094917, 81.58775401137564, 74.36754486189021)"
      ]
     },
     "execution_count": 124,
     "metadata": {},
     "output_type": "execute_result"
    }
   ],
   "source": [
    "clf_2 = Pipeline([('tfidf', TfidfVectorizer(max_df=0.15, min_df= 1e-05,strip_accents= 'unicode',lowercase=True)),\n",
    "                      ('clf-SGD', SGDClassifier(loss='hinge', penalty='l2',alpha=0.0001,max_iter=2000))])\n",
    "\n",
    "clf_2 = clf_2.fit(X=X_train,y=y_train)\n",
    "pred = clf_2.predict(X_test)\n",
    "print_metrics(pred,y_test)"
   ]
  },
  {
   "cell_type": "code",
   "execution_count": 140,
   "metadata": {
    "ExecuteTime": {
     "end_time": "2020-12-09T01:44:59.956794Z",
     "start_time": "2020-12-09T01:40:45.943983Z"
    },
    "hidden": true
   },
   "outputs": [
    {
     "name": "stdout",
     "output_type": "stream",
     "text": [
      "Accuracy: 0.83\n",
      "Area Under The Curve: 0.79\n",
      "Detail:\n",
      "              precision    recall  f1-score   support\n",
      "\n",
      "          -1       0.83      0.98      0.90    126588\n",
      "           0       0.62      0.17      0.26     22501\n",
      "           1       0.84      0.26      0.39      8089\n",
      "\n",
      "    accuracy                           0.83    157178\n",
      "   macro avg       0.77      0.47      0.52    157178\n",
      "weighted avg       0.80      0.83      0.78    157178\n",
      "\n"
     ]
    },
    {
     "data": {
      "image/png": "[encoded data removed]",
      "text/plain": [
       "<Figure size 576x360 with 2 Axes>"
      ]
     },
     "metadata": {
      "needs_background": "light"
     },
     "output_type": "display_data"
    }
   ],
   "source": [
    "from sklearn.linear_model import LogisticRegression\n",
    "clf_3 = Pipeline([('tfidf', TfidfVectorizer(max_df=0.15, min_df= 1e-05,strip_accents= 'unicode',lowercase=True)),\n",
    "                      ('clf-lor', LogisticRegression(solver='newton-cg'))])\n",
    "\n",
    "clf_3 = clf_3.fit(X=X_train,y=y_train)\n",
    "pred = clf_3.predict(X_test)\n",
    "pred_proba = clf_3.predict_proba(X_test)\n",
    "print_results(y_test,pred,pred_proba)"
   ]
  },
  {
   "cell_type": "markdown",
   "metadata": {
    "heading_collapsed": true
   },
   "source": [
    "# Training on Chemtrails Videos"
   ]
  },
  {
   "cell_type": "code",
   "execution_count": 141,
   "metadata": {
    "ExecuteTime": {
     "end_time": "2020-12-09T01:45:30.165134Z",
     "start_time": "2020-12-09T01:45:08.032918Z"
    },
    "hidden": true,
    "scrolled": true
   },
   "outputs": [],
   "source": [
    "df_chemtrails = pd.read_excel('AllchemtrailsComments.xlsx',index=False).dropna()\n",
    "\n",
    "#Removing '\\n' and '\\t' with ' '\n",
    "df_chemtrails['comment'] =  df_chemtrails['comment'].str.replace('\\n',' ')\n",
    "df_chemtrails['comment'] =  df_chemtrails['comment'].str.replace('\\t',' ')\n"
   ]
  },
  {
   "cell_type": "code",
   "execution_count": 142,
   "metadata": {
    "ExecuteTime": {
     "end_time": "2020-12-09T01:45:38.605792Z",
     "start_time": "2020-12-09T01:45:38.529810Z"
    },
    "hidden": true
   },
   "outputs": [],
   "source": [
    "\n",
    "X = df_chemtrails['comment']\n",
    "Y = df_chemtrails['stance']\n",
    "X_train, X_test, y_train, y_test = train_test_split(X, Y, test_size=0.2,random_state=10)\n",
    "X_train = X_train.reset_index(drop=True).tolist()\n",
    "X_test  = X_test.reset_index(drop=True).tolist()\n",
    "y_train = y_train.reset_index(drop=True).tolist()\n",
    "y_test  = y_test.reset_index(drop=True).tolist()"
   ]
  },
  {
   "cell_type": "code",
   "execution_count": 143,
   "metadata": {
    "ExecuteTime": {
     "end_time": "2020-12-09T01:45:54.936602Z",
     "start_time": "2020-12-09T01:45:42.284749Z"
    },
    "hidden": true
   },
   "outputs": [
    {
     "name": "stdout",
     "output_type": "stream",
     "text": [
      "Accuracy: 0.74\n",
      "Area Under The Curve: 0.77\n",
      "Detail:\n",
      "              precision    recall  f1-score   support\n",
      "\n",
      "          -1       0.72      0.34      0.46      6699\n",
      "           0       0.30      0.01      0.02       686\n",
      "           1       0.74      0.95      0.83     14968\n",
      "\n",
      "    accuracy                           0.74     22353\n",
      "   macro avg       0.59      0.43      0.44     22353\n",
      "weighted avg       0.72      0.74      0.69     22353\n",
      "\n"
     ]
    },
    {
     "data": {
      "image/png": "[encoded data removed]",
      "text/plain": [
       "<Figure size 576x360 with 2 Axes>"
      ]
     },
     "metadata": {
      "needs_background": "light"
     },
     "output_type": "display_data"
    }
   ],
   "source": [
    "clf_1 = Pipeline([('tfidf', TfidfVectorizer(max_df=0.1, min_df= 0,strip_accents= 'unicode',lowercase=True)),\n",
    "                 ('NB_clf',MultinomialNB(alpha=0.1))])\n",
    "\n",
    "\n",
    "clf_1 = clf_1.fit(X_train, y_train)\n",
    "pred = clf_1.predict(X_test)\n",
    "pred_proba = clf_1.predict_proba(X_test)\n",
    "print_results(y_test,pred,pred_proba)"
   ]
  },
  {
   "cell_type": "code",
   "execution_count": 144,
   "metadata": {
    "ExecuteTime": {
     "end_time": "2020-12-09T01:46:09.230782Z",
     "start_time": "2020-12-09T01:45:58.328587Z"
    },
    "hidden": true
   },
   "outputs": [
    {
     "name": "stdout",
     "output_type": "stream",
     "text": [
      "Accuracy is 73.3413859437212\n",
      "Precision is 71.80207040428442\n",
      "Recall is 75.66345133151798\n",
      "F1-Score is 68.15850904037445\n"
     ]
    },
    {
     "name": "stderr",
     "output_type": "stream",
     "text": [
      "c:\\users\\yusuf\\appdata\\local\\programs\\python\\python37\\lib\\site-packages\\sklearn\\metrics\\_classification.py:1221: UndefinedMetricWarning: Precision is ill-defined and being set to 0.0 in labels with no predicted samples. Use `zero_division` parameter to control this behavior.\n",
      "  _warn_prf(average, modifier, msg_start, len(result))\n"
     ]
    },
    {
     "data": {
      "text/plain": [
       "(73.3413859437212, 71.80207040428442, 75.66345133151798, 68.15850904037445)"
      ]
     },
     "execution_count": 144,
     "metadata": {},
     "output_type": "execute_result"
    }
   ],
   "source": [
    "clf_2 = Pipeline([('tfidf', TfidfVectorizer(max_df=0.15, min_df= 1e-05,strip_accents= 'unicode',lowercase=True)),\n",
    "                      ('clf-SGD', SGDClassifier(loss='hinge', penalty='l2',alpha=0.0001,max_iter=2000))])\n",
    "\n",
    "clf_2 = clf_2.fit(X=X_train,y=y_train)\n",
    "pred = clf_2.predict(X_test)\n",
    "print_metrics(pred,y_test)"
   ]
  }
 ],
 "metadata": {
  "hide_input": false,
  "kernelspec": {
   "display_name": "Python 3",
   "language": "python",
   "name": "python3"
  },
  "language_info": {
   "codemirror_mode": {
    "name": "ipython",
    "version": 3
   },
   "file_extension": ".py",
   "mimetype": "text/x-python",
   "name": "python",
   "nbconvert_exporter": "python",
   "pygments_lexer": "ipython3",
   "version": "3.7.3"
  },
  "toc": {
   "base_numbering": 1,
   "nav_menu": {},
   "number_sections": true,
   "sideBar": true,
   "skip_h1_title": false,
   "title_cell": "Table of Contents",
   "title_sidebar": "Contents",
   "toc_cell": false,
   "toc_position": {},
   "toc_section_display": true,
   "toc_window_display": false
  },
  "varInspector": {
   "cols": {
    "lenName": 16,
    "lenType": 16,
    "lenVar": 40
   },
   "kernels_config": {
    "python": {
     "delete_cmd_postfix": "",
     "delete_cmd_prefix": "del ",
     "library": "var_list.py",
     "varRefreshCmd": "print(var_dic_list())"
    },
    "r": {
     "delete_cmd_postfix": ") ",
     "delete_cmd_prefix": "rm(",
     "library": "var_list.r",
     "varRefreshCmd": "cat(var_dic_list()) "
    }
   },
   "types_to_exclude": [
    "module",
    "function",
    "builtin_function_or_method",
    "instance",
    "_Feature"
   ],
   "window_display": false
  }
 },
 "nbformat": 4,
 "nbformat_minor": 2
}
