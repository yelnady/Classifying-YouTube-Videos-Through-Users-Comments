{
 "cells": [
  {
   "cell_type": "code",
   "execution_count": 2,
   "metadata": {
    "ExecuteTime": {
     "end_time": "2020-11-28T01:16:28.974644Z",
     "start_time": "2020-11-28T01:16:11.712544Z"
    }
   },
   "outputs": [],
   "source": [
    "import os\n",
    "import time\n",
    "import re\n",
    "import pprint \n",
    "import json\n",
    "import csv\n",
    "import logging\n",
    "import sys\n",
    "import pandas as pd\n",
    "import xlrd\n",
    "import glob\n",
    "\n",
    "from urllib.parse import parse_qsl, urljoin, urlparse\n",
    "\n",
    "\n",
    "def get_video_id(the_link):\n",
    "    vid = re.findall('v(?:=|%3D)([^&%?]+)', urlparse(the_link).query)\n",
    "    if vid:\n",
    "        return vid[0]\n",
    "    the_path = urlparse(the_link).path[1:]\n",
    "    if ((not the_path) or \n",
    "        the_path.startswith('user') or \n",
    "        the_path.startswith('shared') or\n",
    "        the_path.startswith('playlist') or\n",
    "        the_path.startswith('channel') or \n",
    "        the_path.startswith('attribution_link') or \n",
    "        the_path.startswith('results') or \n",
    "        the_path.startswith('edit') or \n",
    "        the_path.startswith('categories') or \n",
    "        the_path.startswith('c/') or \n",
    "        the_path.startswith('view_play_list')): \n",
    "            return None\n",
    "    if the_path.startswith('embed/'): return the_path[len('embed/'):len('embed/')+11]#typical length of the id\n",
    "    if the_path.startswith('v/'): return the_path[len('v/'):len('v/')+11]\n",
    "    \n",
    "    return the_path\n",
    "\n",
    "#Input: Enter DataFrame, Return: the ID of these videos in this url\n",
    "def getVideosIds(DataFrame):\n",
    "    ids = []\n",
    "    for i, row in DataFrame.iterrows():\n",
    "        if get_video_id(row['vid_url']) != None :\n",
    "            ids.append(get_video_id(row['vid_url'])+'.csv')\n",
    "    return ids"
   ]
  },
  {
   "cell_type": "markdown",
   "metadata": {},
   "source": [
    "# Modifying Neutral Files"
   ]
  },
  {
   "cell_type": "code",
   "execution_count": 5,
   "metadata": {
    "ExecuteTime": {
     "end_time": "2020-11-28T01:16:40.944778Z",
     "start_time": "2020-11-28T01:16:40.607812Z"
    }
   },
   "outputs": [],
   "source": [
    "#Now I'm just focusing on the neutral one, where I want to get ids for each one\n",
    "\n",
    "NeutralIds = []\n",
    "NeutralDataFrame = pd.read_excel('Neutral.xlsx')[['vid_url','topic']]\n",
    "\n",
    "#They are just a lists that contain the IDs of each YouTube video by topic and by Neutral\n",
    "# We first select the rows that have the topic 911 (for example), then we get their ids in a list\n",
    "Neutral911 = getVideosIds(NeutralDataFrame.loc[NeutralDataFrame['topic'] == '911'])\n",
    "NeutralMoonLanding =  getVideosIds(NeutralDataFrame.loc[NeutralDataFrame['topic'] == 'moonlanding'])\n",
    "NeutralVaccines =  getVideosIds(NeutralDataFrame.loc[NeutralDataFrame['topic'] == 'vaccines'])\n",
    "NeutralClchemtrails =  getVideosIds(NeutralDataFrame.loc[NeutralDataFrame['topic'] == 'chemtrails'])\n",
    "NeutralFlatearth = getVideosIds(NeutralDataFrame.loc[NeutralDataFrame['topic'] == 'flatearth'])\n",
    " \n"
   ]
  },
  {
   "cell_type": "code",
   "execution_count": 7,
   "metadata": {
    "ExecuteTime": {
     "end_time": "2020-11-28T01:17:22.561732Z",
     "start_time": "2020-11-28T01:16:55.701822Z"
    }
   },
   "outputs": [],
   "source": [
    "# We want to get the all neutral in one (excel sheet file), and also put a column the (name of the tapic) accordingly.\n",
    "\n",
    "# We need to use (fillna), besides removing all stop words like the (emojis ^_^)\n",
    "\n",
    "NeutralFileNames = os.listdir('Neutral')\n",
    "                \n",
    "    \n",
    "# Open Each file and add a topic name to all of its urls.\n",
    "\n",
    "for fileName in NeutralFileNames:\n",
    "    df = pd.read_csv('Neutral/'+fileName)\n",
    "    if fileName in Neutral911:\n",
    "        df[\"Topic\"] = \"911\"\n",
    "    elif fileName in NeutralMoonLanding:\n",
    "        df[\"Topic\"] = \"moonlanding\"\n",
    "    elif fileName in NeutralVaccines:\n",
    "        df[\"Topic\"] = \"vaccines\"\n",
    "    elif fileName in NeutralClchemtrails:\n",
    "        df[\"Topic\"] = \"chemtrails\"\n",
    "    elif fileName in NeutralFlatearth:\n",
    "        df[\"Topic\"] = \"flatearth\"\n",
    "    df[\"stance\"] = 0\n",
    "    df.to_csv('Neutral/'+fileName, index=False) "
   ]
  },
  {
   "cell_type": "markdown",
   "metadata": {},
   "source": [
    "# Modifying Anti Files"
   ]
  },
  {
   "cell_type": "code",
   "execution_count": 8,
   "metadata": {
    "ExecuteTime": {
     "end_time": "2020-11-28T01:18:39.393716Z",
     "start_time": "2020-11-28T01:17:22.798831Z"
    }
   },
   "outputs": [],
   "source": [
    "#Now I'm just focusing on the neutral one, where I want to get ids for each one\n",
    "\n",
    "AntiIds = []\n",
    "AntiDataFrame = pd.read_excel('Anti.xlsx')[['vid_url','topic']]\n",
    "\n",
    "#They are just a lists that contain the IDs of each YouTube video by topic and by Neutral\n",
    "Anti911 = getVideosIds(AntiDataFrame.loc[AntiDataFrame['topic'] == '911'])\n",
    "AntiMoonLanding =  getVideosIds(AntiDataFrame.loc[AntiDataFrame['topic'] == 'moonlanding'])\n",
    "AntiVaccines =  getVideosIds(AntiDataFrame.loc[AntiDataFrame['topic'] == 'vaccines'])\n",
    "AntiChemtrails =  getVideosIds(AntiDataFrame.loc[AntiDataFrame['topic'] == 'chemtrails'])\n",
    "AntiFlatearth = getVideosIds(AntiDataFrame.loc[AntiDataFrame['topic'] == 'flatearth'])\n",
    " \n",
    "    \n",
    "    \n",
    "NeutralFileNames = os.listdir('Anti')\n",
    "                \n",
    "    \n",
    "# Open Each file and add a topic name to all of its urls.\n",
    "\n",
    "for fileName in NeutralFileNames:\n",
    "    df = pd.read_csv('Anti/'+fileName)\n",
    "    if fileName in Anti911:\n",
    "        df[\"Topic\"] = \"911\"\n",
    "    elif fileName in AntiMoonLanding:\n",
    "        df[\"Topic\"] = \"moonlanding\"\n",
    "    elif fileName in AntiVaccines:\n",
    "        df[\"Topic\"] = \"vaccines\"\n",
    "    elif fileName in AntiChemtrails:\n",
    "        df[\"Topic\"] = \"chemtrails\"\n",
    "    elif fileName in AntiFlatearth:\n",
    "        df[\"Topic\"] = \"flatearth\"\n",
    "    df[\"stance\"] = -1\n",
    "    df.to_csv('Anti/'+fileName, index=False) \n"
   ]
  },
  {
   "cell_type": "markdown",
   "metadata": {},
   "source": [
    "# Modifying Pro Files"
   ]
  },
  {
   "cell_type": "code",
   "execution_count": 9,
   "metadata": {
    "ExecuteTime": {
     "end_time": "2020-11-28T01:19:10.384815Z",
     "start_time": "2020-11-28T01:18:39.758701Z"
    }
   },
   "outputs": [],
   "source": [
    "#Now I'm just focusing on the neutral one, where I want to get ids for each one\n",
    "\n",
    "ProIds = []\n",
    "ProDataFrame = pd.read_excel('Pro.xlsx')[['vid_url','topic']]\n",
    "\n",
    "#They are just a lists that contain the IDs of each YouTube video by topic and by Neutral\n",
    "Pro911 = getVideosIds(ProDataFrame.loc[ProDataFrame['topic'] == '911'])\n",
    "ProMoonLanding =  getVideosIds(ProDataFrame.loc[ProDataFrame['topic'] == 'moonlanding'])\n",
    "ProVaccines =  getVideosIds(ProDataFrame.loc[ProDataFrame['topic'] == 'vaccines'])\n",
    "ProChemtrails =  getVideosIds(ProDataFrame.loc[ProDataFrame['topic'] == 'chemtrails'])\n",
    "ProFlatearth = getVideosIds(ProDataFrame.loc[ProDataFrame['topic'] == 'flatearth'])\n",
    " \n",
    "    \n",
    "    \n",
    "NeutralFileNames = os.listdir('Pro')\n",
    "                \n",
    "    \n",
    "# Open Each file and add a topic name to all of its urls.\n",
    "\n",
    "for fileName in NeutralFileNames:\n",
    "    df = pd.read_csv('Pro/'+fileName)\n",
    "    if fileName in Pro911:\n",
    "        df[\"Topic\"] = \"911\"\n",
    "    elif fileName in ProMoonLanding:\n",
    "        df[\"Topic\"] = \"moonlanding\"\n",
    "    elif fileName in ProVaccines:\n",
    "        df[\"Topic\"] = \"vaccines\"\n",
    "    elif fileName in ProChemtrails:\n",
    "        df[\"Topic\"] = \"chemtrails\"\n",
    "    elif fileName in ProFlatearth:\n",
    "        df[\"Topic\"] = \"flatearth\"\n",
    "    df[\"stance\"] = +1\n",
    "    df.to_csv('Pro/'+fileName, index=False) \n"
   ]
  },
  {
   "cell_type": "markdown",
   "metadata": {},
   "source": [
    "# Combine all into one file"
   ]
  },
  {
   "cell_type": "code",
   "execution_count": 18,
   "metadata": {
    "ExecuteTime": {
     "end_time": "2020-11-28T01:26:36.992764Z",
     "start_time": "2020-11-28T01:24:48.784039Z"
    }
   },
   "outputs": [],
   "source": [
    "\n",
    "NeturalFiles = glob.glob('Neutral' + \"/*.csv\")\n",
    "ProFiles =  glob.glob('Pro' + \"/*.csv\")\n",
    "AntiFiles = glob.glob('Anti' + \"/*.csv\")\n",
    "allFiles = []\n",
    "\n",
    "for filename in NeturalFiles:\n",
    "    df = pd.read_csv(filename, index_col=None, header=0)\n",
    "    df['ID'] = filename[8:-4]\n",
    "    allFiles.append(df)\n",
    "\n",
    "for filename in ProFiles:\n",
    "    df = pd.read_csv(filename, index_col=None, header=0)\n",
    "    df['ID'] = filename[4:-4]\n",
    "    allFiles.append(df)\n",
    "    \n",
    "for filename in AntiFiles:\n",
    "    df = pd.read_csv(filename, index_col=None, header=0)\n",
    "    df['ID'] = filename[6:-4]\n",
    "    allFiles.append(df)\n",
    "    \n",
    "frame = pd.concat(allFiles, axis=0, ignore_index=True)\n",
    "\n",
    "frame.to_csv('AllCommentsFinal.csv', index=False) \n",
    "\n",
    "df = frame"
   ]
  },
  {
   "cell_type": "code",
   "execution_count": 42,
   "metadata": {
    "ExecuteTime": {
     "end_time": "2020-11-28T02:23:43.351074Z",
     "start_time": "2020-11-28T02:23:43.338948Z"
    }
   },
   "outputs": [],
   "source": [
    "df = frame"
   ]
  },
  {
   "cell_type": "code",
   "execution_count": 24,
   "metadata": {
    "ExecuteTime": {
     "end_time": "2020-11-28T01:55:28.571499Z",
     "start_time": "2020-11-28T01:52:13.234602Z"
    }
   },
   "outputs": [],
   "source": [
    "df2 = df.loc[df['Topic'] == 'vaccines']\n",
    "df2.to_excel('AllVaccinesComments.xlsx', index=False) \n",
    "\n",
    "\n",
    "df2 = df.loc[df['Topic'] == 'moonlanding']\n",
    "df2.to_excel('AllMoonLandingComments.xlsx', index=False) \n",
    "\n",
    "\n",
    "df2 = df.loc[df['Topic'] == 'chemtrails']\n",
    "df2.to_excel('AllchemtrailsComments.xlsx', index=False) \n",
    "\n",
    "df2 = df.loc[df['Topic'] == 'flatearth']\n",
    "df2.to_excel('AllFlatEarthComments.xlsx', index=False) "
   ]
  },
  {
   "cell_type": "code",
   "execution_count": 49,
   "metadata": {
    "ExecuteTime": {
     "end_time": "2020-11-28T02:28:07.272937Z",
     "start_time": "2020-11-28T02:27:18.532324Z"
    }
   },
   "outputs": [],
   "source": [
    "df2 = df.loc[df['Topic'] == 911]\n",
    "df2.to_excel('All911Comments.xlsx', index=False) "
   ]
  },
  {
   "cell_type": "code",
   "execution_count": 40,
   "metadata": {
    "ExecuteTime": {
     "end_time": "2020-11-28T02:16:45.590464Z",
     "start_time": "2020-11-28T02:16:43.945591Z"
    },
    "collapsed": true
   },
   "outputs": [
    {
     "data": {
      "text/html": [
       "<div>\n",
       "<style scoped>\n",
       "    .dataframe tbody tr th:only-of-type {\n",
       "        vertical-align: middle;\n",
       "    }\n",
       "\n",
       "    .dataframe tbody tr th {\n",
       "        vertical-align: top;\n",
       "    }\n",
       "\n",
       "    .dataframe thead th {\n",
       "        text-align: right;\n",
       "    }\n",
       "</style>\n",
       "<table border=\"1\" class=\"dataframe\">\n",
       "  <thead>\n",
       "    <tr style=\"text-align: right;\">\n",
       "      <th></th>\n",
       "      <th>topic</th>\n",
       "      <th>aria-label</th>\n",
       "      <th>description</th>\n",
       "      <th>vid_title</th>\n",
       "      <th>vid_url</th>\n",
       "      <th>annotation</th>\n",
       "      <th>notes</th>\n",
       "      <th>normalized_annotation</th>\n",
       "      <th>duration</th>\n",
       "      <th>viewCount</th>\n",
       "      <th>likeCount</th>\n",
       "      <th>dislikeCount</th>\n",
       "      <th>favoriteCount</th>\n",
       "      <th>commentCount</th>\n",
       "      <th>popularity</th>\n",
       "      <th>Language</th>\n",
       "    </tr>\n",
       "  </thead>\n",
       "  <tbody>\n",
       "  </tbody>\n",
       "</table>\n",
       "</div>"
      ],
      "text/plain": [
       "Empty DataFrame\n",
       "Columns: [topic, aria-label, description, vid_title, vid_url, annotation, notes, normalized_annotation, duration, viewCount, likeCount, dislikeCount, favoriteCount, commentCount, popularity, Language]\n",
       "Index: []"
      ]
     },
     "execution_count": 40,
     "metadata": {},
     "output_type": "execute_result"
    }
   ],
   "source": [
    "# Removing any row that has the word playlist\n",
    "df = pd.read_excel('VideosDetails.xlsx')\n",
    "df.loc[df['vid_url'].str.contains(\"playlist\")]\n",
    "df = df.drop(df.index[[2823,2822,2786]])\n",
    "df.to_excel('VideosDetails.xlsx', index=False) "
   ]
  }
 ],
 "metadata": {
  "hide_input": false,
  "kernelspec": {
   "display_name": "Python 3",
   "language": "python",
   "name": "python3"
  },
  "language_info": {
   "codemirror_mode": {
    "name": "ipython",
    "version": 3
   },
   "file_extension": ".py",
   "mimetype": "text/x-python",
   "name": "python",
   "nbconvert_exporter": "python",
   "pygments_lexer": "ipython3",
   "version": "3.7.3"
  },
  "toc": {
   "base_numbering": 1,
   "nav_menu": {},
   "number_sections": true,
   "sideBar": true,
   "skip_h1_title": false,
   "title_cell": "Table of Contents",
   "title_sidebar": "Contents",
   "toc_cell": false,
   "toc_position": {},
   "toc_section_display": true,
   "toc_window_display": false
  },
  "varInspector": {
   "cols": {
    "lenName": 16,
    "lenType": 16,
    "lenVar": 40
   },
   "kernels_config": {
    "python": {
     "delete_cmd_postfix": "",
     "delete_cmd_prefix": "del ",
     "library": "var_list.py",
     "varRefreshCmd": "print(var_dic_list())"
    },
    "r": {
     "delete_cmd_postfix": ") ",
     "delete_cmd_prefix": "rm(",
     "library": "var_list.r",
     "varRefreshCmd": "cat(var_dic_list()) "
    }
   },
   "types_to_exclude": [
    "module",
    "function",
    "builtin_function_or_method",
    "instance",
    "_Feature"
   ],
   "window_display": false
  }
 },
 "nbformat": 4,
 "nbformat_minor": 2
}
